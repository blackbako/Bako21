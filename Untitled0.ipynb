{
  "nbformat": 4,
  "nbformat_minor": 0,
  "metadata": {
    "colab": {
      "provenance": [],
      "authorship_tag": "ABX9TyMVqgh+oOZUJl0Wc5Jwx7Sv",
      "include_colab_link": true
    },
    "kernelspec": {
      "name": "python3",
      "display_name": "Python 3"
    },
    "language_info": {
      "name": "python"
    }
  },
  "cells": [
    {
      "cell_type": "markdown",
      "metadata": {
        "id": "view-in-github",
        "colab_type": "text"
      },
      "source": [
        "<a href=\"https://colab.research.google.com/github/blackbako/Bako21/blob/main/Untitled0.ipynb\" target=\"_parent\"><img src=\"https://colab.research.google.com/assets/colab-badge.svg\" alt=\"Open In Colab\"/></a>"
      ]
    },
    {
      "cell_type": "code",
      "execution_count": 1,
      "metadata": {
        "colab": {
          "base_uri": "https://localhost:8080/"
        },
        "id": "2JxIgRbR15rl",
        "outputId": "8122c9a1-adf1-48ba-dd11-e783046ba902"
      },
      "outputs": [
        {
          "output_type": "stream",
          "name": "stdout",
          "text": [
            "Iter  a          b          c          f(c)         |b-a|     \n",
            "------------------------------------------------------------\n",
            "1     0.000000   1.000000   0.500000   -1.375000    1.000000  \n",
            "2     0.000000   0.500000   0.250000   -0.234375    0.500000  \n",
            "3     0.000000   0.250000   0.125000   0.376953     0.250000  \n",
            "4     0.125000   0.250000   0.187500   0.069092     0.125000  \n",
            "5     0.187500   0.250000   0.218750   -0.083282    0.062500  \n",
            "6     0.187500   0.218750   0.203125   -0.007244    0.031250  \n",
            "7     0.187500   0.203125   0.195312   0.030888     0.015625  \n",
            "8     0.195312   0.203125   0.199219   0.011813     0.007812  \n",
            "9     0.199219   0.203125   0.201172   0.002282     0.003906  \n",
            "10    0.201172   0.203125   0.202148   -0.002482    0.001953  \n",
            "11    0.201172   0.202148   0.201660   -0.000100    0.000977  \n",
            "12    0.201172   0.201660   0.201416   0.001091     0.000488  \n",
            "13    0.201416   0.201660   0.201538   0.000496     0.000244  \n",
            "14    0.201538   0.201660   0.201599   0.000198     0.000122  \n",
            "15    0.201599   0.201660   0.201630   0.000049     0.000061  \n",
            "16    0.201630   0.201660   0.201645   -0.000025    0.000031  \n",
            "17    0.201630   0.201645   0.201637   0.000012     0.000015  \n",
            "18    0.201637   0.201645   0.201641   -0.000007    0.000008  \n",
            "\n",
            "Approximate root = 0.20164108276367188\n"
          ]
        }
      ],
      "source": [
        "# Bisection Method in Python\n",
        "# Example equation: f(x) = x^3 - 5x + 1\n",
        "\n",
        "def f(x):\n",
        "    return x**3 - 5*x + 1  # You can change this to any function you want\n",
        "\n",
        "def bisection(a, b, tol=1e-5, max_iter=50):\n",
        "    if f(a) * f(b) >= 0:\n",
        "        print(\"Error: f(a) and f(b) must have opposite signs.\")\n",
        "        return None\n",
        "\n",
        "    print(f\"{'Iter':<5} {'a':<10} {'b':<10} {'c':<10} {'f(c)':<12} {'|b-a|':<10}\")\n",
        "    print(\"-\" * 60)\n",
        "\n",
        "    for i in range(1, max_iter + 1):\n",
        "        c = (a + b) / 2\n",
        "        fc = f(c)\n",
        "\n",
        "        print(f\"{i:<5} {a:<10.6f} {b:<10.6f} {c:<10.6f} {fc:<12.6f} {abs(b - a):<10.6f}\")\n",
        "\n",
        "\n",
        "        if abs(fc) < tol or abs(b - a) < tol:\n",
        "            print(\"\\nApproximate root =\", c)\n",
        "            return c\n",
        "\n",
        "\n",
        "        if f(a) * fc < 0:\n",
        "            b = c\n",
        "        else:\n",
        "            a = c\n",
        "\n",
        "    print(\"\\nMax iterations reached.\")\n",
        "    return (a + b) / 2\n",
        "\n",
        "\n",
        "# Example usage:\n",
        "root = bisection(0, 1)"
      ]
    }
  ]
}